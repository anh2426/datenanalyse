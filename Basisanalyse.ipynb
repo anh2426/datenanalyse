{
 "cells": [
  {
   "cell_type": "code",
   "execution_count": 9,
   "id": "29f6c3d6",
   "metadata": {},
   "outputs": [],
   "source": [
    "import pandas as pd\n",
    "import altair as alt"
   ]
  },
  {
   "cell_type": "code",
   "execution_count": 10,
   "id": "4781dadf",
   "metadata": {},
   "outputs": [],
   "source": [
    "# Aktuelle Pfade\n",
    "file_paths = [\n",
    "     \"data/rad_2022_tage_19_06_23_r.csv\",\n",
    "     \"data/rad_2021_tage_19_06_23_r.csv\",\n",
    "     \"data/rad_2020_tage_19_06_23_r.csv\",\n",
    "     \"data/rad_2019_tage_19_06_23_r.csv\",\n",
    "     \"data/rad_2018_tage_19_06_23_r.csv\",\n",
    "     \"data/rad_2017_tage_19_06_23_r.csv\",\n",
    "     \"data/rad_2016_tage_19_06_23_r.csv\",\n",
    "     \"data/rad_2015_tage_19_06_23_r.csv\",\n",
    "     \"data/rad_2014_tage_19_06_23_r.csv\",\n",
    "     \"data/rad_2013_tage_19_06_23_r.csv\",\n",
    "     \"data/rad_2012_tage_19_06_23_r.csv\",\n",
    "     \"data/rad_2011_tage_19_06_23_r.csv\",\n",
    "     \"data/rad_2010_tage_19_06_23_r.csv\",\n",
    "     \"data/rad_2009_tage_19_06_23_r.csv\",\n",
    "     \"data/rad_2008_tage_19_06_23_r.csv\"\n",
    "]"
   ]
  },
  {
   "cell_type": "markdown",
   "id": "c5862489",
   "metadata": {},
   "source": [
    "# Anzahl der Radfahrer über gesamten Zeitraum"
   ]
  },
  {
   "cell_type": "code",
   "execution_count": 11,
   "id": "878a1f7d",
   "metadata": {},
   "outputs": [
    {
     "data": {
      "text/html": [
       "\n",
       "<style>\n",
       "  #altair-viz-21b53bd0e08045bba275dace77b14d4e.vega-embed {\n",
       "    width: 100%;\n",
       "    display: flex;\n",
       "  }\n",
       "\n",
       "  #altair-viz-21b53bd0e08045bba275dace77b14d4e.vega-embed details,\n",
       "  #altair-viz-21b53bd0e08045bba275dace77b14d4e.vega-embed details summary {\n",
       "    position: relative;\n",
       "  }\n",
       "</style>\n",
       "<div id=\"altair-viz-21b53bd0e08045bba275dace77b14d4e\"></div>\n",
       "<script type=\"text/javascript\">\n",
       "  var VEGA_DEBUG = (typeof VEGA_DEBUG == \"undefined\") ? {} : VEGA_DEBUG;\n",
       "  (function(spec, embedOpt){\n",
       "    let outputDiv = document.currentScript.previousElementSibling;\n",
       "    if (outputDiv.id !== \"altair-viz-21b53bd0e08045bba275dace77b14d4e\") {\n",
       "      outputDiv = document.getElementById(\"altair-viz-21b53bd0e08045bba275dace77b14d4e\");\n",
       "    }\n",
       "    const paths = {\n",
       "      \"vega\": \"https://cdn.jsdelivr.net/npm/vega@5?noext\",\n",
       "      \"vega-lib\": \"https://cdn.jsdelivr.net/npm/vega-lib?noext\",\n",
       "      \"vega-lite\": \"https://cdn.jsdelivr.net/npm/vega-lite@5.16.3?noext\",\n",
       "      \"vega-embed\": \"https://cdn.jsdelivr.net/npm/vega-embed@6?noext\",\n",
       "    };\n",
       "\n",
       "    function maybeLoadScript(lib, version) {\n",
       "      var key = `${lib.replace(\"-\", \"\")}_version`;\n",
       "      return (VEGA_DEBUG[key] == version) ?\n",
       "        Promise.resolve(paths[lib]) :\n",
       "        new Promise(function(resolve, reject) {\n",
       "          var s = document.createElement('script');\n",
       "          document.getElementsByTagName(\"head\")[0].appendChild(s);\n",
       "          s.async = true;\n",
       "          s.onload = () => {\n",
       "            VEGA_DEBUG[key] = version;\n",
       "            return resolve(paths[lib]);\n",
       "          };\n",
       "          s.onerror = () => reject(`Error loading script: ${paths[lib]}`);\n",
       "          s.src = paths[lib];\n",
       "        });\n",
       "    }\n",
       "\n",
       "    function showError(err) {\n",
       "      outputDiv.innerHTML = `<div class=\"error\" style=\"color:red;\">${err}</div>`;\n",
       "      throw err;\n",
       "    }\n",
       "\n",
       "    function displayChart(vegaEmbed) {\n",
       "      vegaEmbed(outputDiv, spec, embedOpt)\n",
       "        .catch(err => showError(`Javascript Error: ${err.message}<br>This usually means there's a typo in your chart specification. See the javascript console for the full traceback.`));\n",
       "    }\n",
       "\n",
       "    if(typeof define === \"function\" && define.amd) {\n",
       "      requirejs.config({paths});\n",
       "      require([\"vega-embed\"], displayChart, err => showError(`Error loading script: ${err.message}`));\n",
       "    } else {\n",
       "      maybeLoadScript(\"vega\", \"5\")\n",
       "        .then(() => maybeLoadScript(\"vega-lite\", \"5.16.3\"))\n",
       "        .then(() => maybeLoadScript(\"vega-embed\", \"6\"))\n",
       "        .catch(showError)\n",
       "        .then(() => displayChart(vegaEmbed));\n",
       "    }\n",
       "  })({\"config\": {\"view\": {\"continuousWidth\": 300, \"continuousHeight\": 300}}, \"data\": {\"name\": \"data-d947acf77f1c1cac3f6f285f1c71a8a0\"}, \"mark\": {\"type\": \"bar\"}, \"encoding\": {\"tooltip\": [{\"field\": \"Jahr\", \"type\": \"quantitative\"}, {\"field\": \"Anzahl Radfahrer\", \"type\": \"quantitative\"}], \"x\": {\"field\": \"Jahr\", \"type\": \"ordinal\"}, \"y\": {\"field\": \"Anzahl Radfahrer\", \"type\": \"quantitative\"}}, \"height\": 150, \"title\": \"Anzahl Radfahrer pro Jahr von 2008 bis 2022\", \"width\": 400, \"$schema\": \"https://vega.github.io/schema/vega-lite/v5.16.3.json\", \"datasets\": {\"data-d947acf77f1c1cac3f6f285f1c71a8a0\": [{\"Jahr\": 2022, \"Anzahl Radfahrer\": 4797843.0}, {\"Jahr\": 2021, \"Anzahl Radfahrer\": 4355837.0}, {\"Jahr\": 2020, \"Anzahl Radfahrer\": 4751460.0}, {\"Jahr\": 2019, \"Anzahl Radfahrer\": 4039695.0}, {\"Jahr\": 2018, \"Anzahl Radfahrer\": 4104533.0}, {\"Jahr\": 2017, \"Anzahl Radfahrer\": 3705264.0}, {\"Jahr\": 2016, \"Anzahl Radfahrer\": 3286145.0}, {\"Jahr\": 2015, \"Anzahl Radfahrer\": 3433753.0}, {\"Jahr\": 2014, \"Anzahl Radfahrer\": 3661378.0}, {\"Jahr\": 2013, \"Anzahl Radfahrer\": 3266077.0}, {\"Jahr\": 2012, \"Anzahl Radfahrer\": 3121502.0}, {\"Jahr\": 2011, \"Anzahl Radfahrer\": 2027260.0}, {\"Jahr\": 2010, \"Anzahl Radfahrer\": 845431.0}, {\"Jahr\": 2009, \"Anzahl Radfahrer\": 596444.0}, {\"Jahr\": 2008, \"Anzahl Radfahrer\": 250169.0}]}}, {\"mode\": \"vega-lite\"});\n",
       "</script>"
      ],
      "text/plain": [
       "alt.Chart(...)"
      ]
     },
     "execution_count": 11,
     "metadata": {},
     "output_type": "execute_result"
    }
   ],
   "source": [
    "# Funktion: Erstellen eines Diagramms aus allen Dateipfaden\n",
    "def create_chart(file_paths):\n",
    "    # Gesamtsummen aus den CSV-Dateien berechnen\n",
    "    gesamt_summen = [pd.read_csv(file_path)['gesamt'].sum() for file_path in file_paths]\n",
    "    #print(gesamt_summen)\n",
    "    \n",
    "    # Jahre aus der jeweiligen Spalte 'datum' extrahieren\n",
    "    jahre = [pd.to_datetime(pd.read_csv(file_path)['datum']).dt.year.iloc[0] for file_path in file_paths]\n",
    "    \n",
    "    # Altair-Diagramm erstellen\n",
    "    chart = alt.Chart(pd.DataFrame({'Jahr': jahre, 'Anzahl Radfahrer': gesamt_summen})).mark_bar().encode(\n",
    "        alt.X('Jahr:O'), # O, because time is ordinal\n",
    "        alt.Y('Anzahl Radfahrer:Q'), # scale does nothing here # Q because the sum is quantitative\n",
    "        tooltip=['Jahr', 'Anzahl Radfahrer']  # tooltip = text to show, when user's cursor is over a mark\n",
    "    ).properties(\n",
    "        title='Anzahl Radfahrer pro Jahr von 2008 bis 2022',\n",
    "        width=400,\n",
    "        height=150\n",
    "    )\n",
    "\n",
    "    return chart\n",
    "\n",
    "# Diagramm erstellen\n",
    "chart = create_chart(file_paths)\n",
    "\n",
    "# Diagramm anzeigen\n",
    "chart"
   ]
  },
  {
   "cell_type": "markdown",
   "id": "b70d7417",
   "metadata": {},
   "source": [
    "# Anzahl der gemessenen Tage der Zählstellen pro Jahr\n",
    "#### -> stabile Daten ab 2012 circa"
   ]
  },
  {
   "cell_type": "code",
   "execution_count": 12,
   "id": "c0b99dae",
   "metadata": {
    "scrolled": true
   },
   "outputs": [
    {
     "data": {
      "text/html": [
       "\n",
       "<style>\n",
       "  #altair-viz-99f4c6a53fe741a6a79a22a6eed86b7e.vega-embed {\n",
       "    width: 100%;\n",
       "    display: flex;\n",
       "  }\n",
       "\n",
       "  #altair-viz-99f4c6a53fe741a6a79a22a6eed86b7e.vega-embed details,\n",
       "  #altair-viz-99f4c6a53fe741a6a79a22a6eed86b7e.vega-embed details summary {\n",
       "    position: relative;\n",
       "  }\n",
       "</style>\n",
       "<div id=\"altair-viz-99f4c6a53fe741a6a79a22a6eed86b7e\"></div>\n",
       "<script type=\"text/javascript\">\n",
       "  var VEGA_DEBUG = (typeof VEGA_DEBUG == \"undefined\") ? {} : VEGA_DEBUG;\n",
       "  (function(spec, embedOpt){\n",
       "    let outputDiv = document.currentScript.previousElementSibling;\n",
       "    if (outputDiv.id !== \"altair-viz-99f4c6a53fe741a6a79a22a6eed86b7e\") {\n",
       "      outputDiv = document.getElementById(\"altair-viz-99f4c6a53fe741a6a79a22a6eed86b7e\");\n",
       "    }\n",
       "    const paths = {\n",
       "      \"vega\": \"https://cdn.jsdelivr.net/npm/vega@5?noext\",\n",
       "      \"vega-lib\": \"https://cdn.jsdelivr.net/npm/vega-lib?noext\",\n",
       "      \"vega-lite\": \"https://cdn.jsdelivr.net/npm/vega-lite@5.16.3?noext\",\n",
       "      \"vega-embed\": \"https://cdn.jsdelivr.net/npm/vega-embed@6?noext\",\n",
       "    };\n",
       "\n",
       "    function maybeLoadScript(lib, version) {\n",
       "      var key = `${lib.replace(\"-\", \"\")}_version`;\n",
       "      return (VEGA_DEBUG[key] == version) ?\n",
       "        Promise.resolve(paths[lib]) :\n",
       "        new Promise(function(resolve, reject) {\n",
       "          var s = document.createElement('script');\n",
       "          document.getElementsByTagName(\"head\")[0].appendChild(s);\n",
       "          s.async = true;\n",
       "          s.onload = () => {\n",
       "            VEGA_DEBUG[key] = version;\n",
       "            return resolve(paths[lib]);\n",
       "          };\n",
       "          s.onerror = () => reject(`Error loading script: ${paths[lib]}`);\n",
       "          s.src = paths[lib];\n",
       "        });\n",
       "    }\n",
       "\n",
       "    function showError(err) {\n",
       "      outputDiv.innerHTML = `<div class=\"error\" style=\"color:red;\">${err}</div>`;\n",
       "      throw err;\n",
       "    }\n",
       "\n",
       "    function displayChart(vegaEmbed) {\n",
       "      vegaEmbed(outputDiv, spec, embedOpt)\n",
       "        .catch(err => showError(`Javascript Error: ${err.message}<br>This usually means there's a typo in your chart specification. See the javascript console for the full traceback.`));\n",
       "    }\n",
       "\n",
       "    if(typeof define === \"function\" && define.amd) {\n",
       "      requirejs.config({paths});\n",
       "      require([\"vega-embed\"], displayChart, err => showError(`Error loading script: ${err.message}`));\n",
       "    } else {\n",
       "      maybeLoadScript(\"vega\", \"5\")\n",
       "        .then(() => maybeLoadScript(\"vega-lite\", \"5.16.3\"))\n",
       "        .then(() => maybeLoadScript(\"vega-embed\", \"6\"))\n",
       "        .catch(showError)\n",
       "        .then(() => displayChart(vegaEmbed));\n",
       "    }\n",
       "  })({\"config\": {\"view\": {\"continuousWidth\": 300, \"continuousHeight\": 300}}, \"data\": {\"name\": \"data-af27d2168db4d70bef4747d060e3b46f\"}, \"mark\": {\"type\": \"bar\"}, \"encoding\": {\"color\": {\"field\": \"zaehlstelle\", \"legend\": {\"orient\": \"right\", \"title\": \"Z\\u00e4hlstellen\"}, \"type\": \"nominal\"}, \"tooltip\": [{\"field\": \"jahr\", \"type\": \"nominal\"}, {\"field\": \"zaehlstelle\", \"type\": \"nominal\"}, {\"field\": \"anzahl_zaehlstellen\", \"type\": \"quantitative\"}], \"x\": {\"field\": \"jahr\", \"title\": \"Jahr\", \"type\": \"nominal\"}, \"y\": {\"field\": \"anzahl_zaehlstellen\", \"title\": \"Anzahl der gemessenden Tage der Z\\u00e4hlstellen\", \"type\": \"quantitative\"}}, \"height\": 400, \"title\": \"Anzahl der gemessenden Tage der Z\\u00e4hlstellen pro Jahr gestapelt nach Z\\u00e4hlstellen\", \"width\": 600, \"$schema\": \"https://vega.github.io/schema/vega-lite/v5.16.3.json\", \"datasets\": {\"data-af27d2168db4d70bef4747d060e3b46f\": [{\"jahr\": 2008, \"zaehlstelle\": \"Arnulf\", \"anzahl_zaehlstellen\": 214}, {\"jahr\": 2008, \"zaehlstelle\": \"Kreuther\", \"anzahl_zaehlstellen\": 195}, {\"jahr\": 2009, \"zaehlstelle\": \"Arnulf\", \"anzahl_zaehlstellen\": 347}, {\"jahr\": 2009, \"zaehlstelle\": \"Hirsch\", \"anzahl_zaehlstellen\": 25}, {\"jahr\": 2009, \"zaehlstelle\": \"Kreuther\", \"anzahl_zaehlstellen\": 320}, {\"jahr\": 2009, \"zaehlstelle\": \"Olympia\", \"anzahl_zaehlstellen\": 155}, {\"jahr\": 2010, \"zaehlstelle\": \"Arnulf\", \"anzahl_zaehlstellen\": 337}, {\"jahr\": 2010, \"zaehlstelle\": \"Hirsch\", \"anzahl_zaehlstellen\": 365}, {\"jahr\": 2010, \"zaehlstelle\": \"Kreuther\", \"anzahl_zaehlstellen\": 365}, {\"jahr\": 2010, \"zaehlstelle\": \"Olympia\", \"anzahl_zaehlstellen\": 365}, {\"jahr\": 2011, \"zaehlstelle\": \"Arnulf\", \"anzahl_zaehlstellen\": 365}, {\"jahr\": 2011, \"zaehlstelle\": \"Erhardt\", \"anzahl_zaehlstellen\": 160}, {\"jahr\": 2011, \"zaehlstelle\": \"Hirsch\", \"anzahl_zaehlstellen\": 365}, {\"jahr\": 2011, \"zaehlstelle\": \"Kreuther\", \"anzahl_zaehlstellen\": 365}, {\"jahr\": 2011, \"zaehlstelle\": \"Margareten\", \"anzahl_zaehlstellen\": 177}, {\"jahr\": 2011, \"zaehlstelle\": \"Olympia\", \"anzahl_zaehlstellen\": 365}, {\"jahr\": 2012, \"zaehlstelle\": \"Arnulf\", \"anzahl_zaehlstellen\": 366}, {\"jahr\": 2012, \"zaehlstelle\": \"Erhardt\", \"anzahl_zaehlstellen\": 366}, {\"jahr\": 2012, \"zaehlstelle\": \"Hirsch\", \"anzahl_zaehlstellen\": 366}, {\"jahr\": 2012, \"zaehlstelle\": \"Kreuther\", \"anzahl_zaehlstellen\": 366}, {\"jahr\": 2012, \"zaehlstelle\": \"Margareten\", \"anzahl_zaehlstellen\": 366}, {\"jahr\": 2012, \"zaehlstelle\": \"Olympia\", \"anzahl_zaehlstellen\": 366}, {\"jahr\": 2013, \"zaehlstelle\": \"Arnulf\", \"anzahl_zaehlstellen\": 365}, {\"jahr\": 2013, \"zaehlstelle\": \"Erhardt\", \"anzahl_zaehlstellen\": 365}, {\"jahr\": 2013, \"zaehlstelle\": \"Hirsch\", \"anzahl_zaehlstellen\": 365}, {\"jahr\": 2013, \"zaehlstelle\": \"Kreuther\", \"anzahl_zaehlstellen\": 134}, {\"jahr\": 2013, \"zaehlstelle\": \"Margareten\", \"anzahl_zaehlstellen\": 358}, {\"jahr\": 2013, \"zaehlstelle\": \"Olympia\", \"anzahl_zaehlstellen\": 365}, {\"jahr\": 2014, \"zaehlstelle\": \"Arnulf\", \"anzahl_zaehlstellen\": 365}, {\"jahr\": 2014, \"zaehlstelle\": \"Erhardt\", \"anzahl_zaehlstellen\": 365}, {\"jahr\": 2014, \"zaehlstelle\": \"Hirsch\", \"anzahl_zaehlstellen\": 365}, {\"jahr\": 2014, \"zaehlstelle\": \"Kreuther\", \"anzahl_zaehlstellen\": 365}, {\"jahr\": 2014, \"zaehlstelle\": \"Margareten\", \"anzahl_zaehlstellen\": 365}, {\"jahr\": 2014, \"zaehlstelle\": \"Olympia\", \"anzahl_zaehlstellen\": 365}, {\"jahr\": 2015, \"zaehlstelle\": \"Arnulf\", \"anzahl_zaehlstellen\": 349}, {\"jahr\": 2015, \"zaehlstelle\": \"Erhardt\", \"anzahl_zaehlstellen\": 365}, {\"jahr\": 2015, \"zaehlstelle\": \"Hirsch\", \"anzahl_zaehlstellen\": 365}, {\"jahr\": 2015, \"zaehlstelle\": \"Kreuther\", \"anzahl_zaehlstellen\": 365}, {\"jahr\": 2015, \"zaehlstelle\": \"Margareten\", \"anzahl_zaehlstellen\": 365}, {\"jahr\": 2015, \"zaehlstelle\": \"Olympia\", \"anzahl_zaehlstellen\": 365}, {\"jahr\": 2016, \"zaehlstelle\": \"Arnulf\", \"anzahl_zaehlstellen\": 366}, {\"jahr\": 2016, \"zaehlstelle\": \"Erhardt\", \"anzahl_zaehlstellen\": 366}, {\"jahr\": 2016, \"zaehlstelle\": \"Hirsch\", \"anzahl_zaehlstellen\": 366}, {\"jahr\": 2016, \"zaehlstelle\": \"Kreuther\", \"anzahl_zaehlstellen\": 366}, {\"jahr\": 2016, \"zaehlstelle\": \"Margareten\", \"anzahl_zaehlstellen\": 366}, {\"jahr\": 2016, \"zaehlstelle\": \"Olympia\", \"anzahl_zaehlstellen\": 364}, {\"jahr\": 2017, \"zaehlstelle\": \"Arnulf\", \"anzahl_zaehlstellen\": 365}, {\"jahr\": 2017, \"zaehlstelle\": \"Erhardt\", \"anzahl_zaehlstellen\": 365}, {\"jahr\": 2017, \"zaehlstelle\": \"Hirsch\", \"anzahl_zaehlstellen\": 365}, {\"jahr\": 2017, \"zaehlstelle\": \"Kreuther\", \"anzahl_zaehlstellen\": 365}, {\"jahr\": 2017, \"zaehlstelle\": \"Margareten\", \"anzahl_zaehlstellen\": 365}, {\"jahr\": 2017, \"zaehlstelle\": \"Olympia\", \"anzahl_zaehlstellen\": 365}, {\"jahr\": 2018, \"zaehlstelle\": \"Arnulf\", \"anzahl_zaehlstellen\": 365}, {\"jahr\": 2018, \"zaehlstelle\": \"Erhardt\", \"anzahl_zaehlstellen\": 365}, {\"jahr\": 2018, \"zaehlstelle\": \"Hirsch\", \"anzahl_zaehlstellen\": 365}, {\"jahr\": 2018, \"zaehlstelle\": \"Kreuther\", \"anzahl_zaehlstellen\": 365}, {\"jahr\": 2018, \"zaehlstelle\": \"Margareten\", \"anzahl_zaehlstellen\": 365}, {\"jahr\": 2018, \"zaehlstelle\": \"Olympia\", \"anzahl_zaehlstellen\": 365}, {\"jahr\": 2019, \"zaehlstelle\": \"Arnulf\", \"anzahl_zaehlstellen\": 304}, {\"jahr\": 2019, \"zaehlstelle\": \"Erhardt\", \"anzahl_zaehlstellen\": 365}, {\"jahr\": 2019, \"zaehlstelle\": \"Hirsch\", \"anzahl_zaehlstellen\": 365}, {\"jahr\": 2019, \"zaehlstelle\": \"Kreuther\", \"anzahl_zaehlstellen\": 361}, {\"jahr\": 2019, \"zaehlstelle\": \"Margareten\", \"anzahl_zaehlstellen\": 365}, {\"jahr\": 2019, \"zaehlstelle\": \"Olympia\", \"anzahl_zaehlstellen\": 365}, {\"jahr\": 2020, \"zaehlstelle\": \"Arnulf\", \"anzahl_zaehlstellen\": 350}, {\"jahr\": 2020, \"zaehlstelle\": \"Erhardt\", \"anzahl_zaehlstellen\": 366}, {\"jahr\": 2020, \"zaehlstelle\": \"Hirsch\", \"anzahl_zaehlstellen\": 366}, {\"jahr\": 2020, \"zaehlstelle\": \"Kreuther\", \"anzahl_zaehlstellen\": 366}, {\"jahr\": 2020, \"zaehlstelle\": \"Margareten\", \"anzahl_zaehlstellen\": 366}, {\"jahr\": 2020, \"zaehlstelle\": \"Olympia\", \"anzahl_zaehlstellen\": 366}, {\"jahr\": 2021, \"zaehlstelle\": \"Arnulf\", \"anzahl_zaehlstellen\": 61}, {\"jahr\": 2021, \"zaehlstelle\": \"Erhardt\", \"anzahl_zaehlstellen\": 365}, {\"jahr\": 2021, \"zaehlstelle\": \"Hirsch\", \"anzahl_zaehlstellen\": 365}, {\"jahr\": 2021, \"zaehlstelle\": \"Kreuther\", \"anzahl_zaehlstellen\": 365}, {\"jahr\": 2021, \"zaehlstelle\": \"Margareten\", \"anzahl_zaehlstellen\": 365}, {\"jahr\": 2021, \"zaehlstelle\": \"Olympia\", \"anzahl_zaehlstellen\": 365}, {\"jahr\": 2022, \"zaehlstelle\": \"Arnulf\", \"anzahl_zaehlstellen\": 365}, {\"jahr\": 2022, \"zaehlstelle\": \"Erhardt\", \"anzahl_zaehlstellen\": 365}, {\"jahr\": 2022, \"zaehlstelle\": \"Hirsch\", \"anzahl_zaehlstellen\": 365}, {\"jahr\": 2022, \"zaehlstelle\": \"Kreuther\", \"anzahl_zaehlstellen\": 365}, {\"jahr\": 2022, \"zaehlstelle\": \"Margareten\", \"anzahl_zaehlstellen\": 365}, {\"jahr\": 2022, \"zaehlstelle\": \"Olympia\", \"anzahl_zaehlstellen\": 287}]}}, {\"mode\": \"vega-lite\"});\n",
       "</script>"
      ],
      "text/plain": [
       "alt.Chart(...)"
      ]
     },
     "execution_count": 12,
     "metadata": {},
     "output_type": "execute_result"
    }
   ],
   "source": [
    "# Liste für DataFrames erstellen\n",
    "df_list = []\n",
    "\n",
    "# Daten aus Dateien lesen und in df_list speichern\n",
    "for file_path in file_paths:\n",
    "    df_temp = pd.read_csv(file_path)\n",
    "    # Nur Zeilen auswählen, bei denen 'gesamt' nicht den Wert NA hat\n",
    "    df_temp = df_temp[df_temp['gesamt'].notna()]\n",
    "    df_list.append(df_temp[['datum', 'zaehlstelle', 'gesamt']])\n",
    "\n",
    "# Einzelne DataFrames zu einem Gesamt-DataFrame zusammenführen\n",
    "df_combined = pd.concat(df_list, ignore_index=True)\n",
    "\n",
    "# Jahr aus dem 'datum' extrahieren\n",
    "df_combined['jahr'] = pd.to_datetime(df_combined['datum']).dt.year\n",
    "\n",
    "# Anzahl der Zählstellen pro Jahr zählen\n",
    "zaehlstellen_pro_jahr = df_combined.groupby(['jahr', 'zaehlstelle']).size().reset_index(name='anzahl_zaehlstellen')\n",
    "\n",
    "# Plot mit Altair\n",
    "chart = alt.Chart(zaehlstellen_pro_jahr).mark_bar().encode(\n",
    "    x=alt.X('jahr:N', title='Jahr'),\n",
    "    y=alt.Y('anzahl_zaehlstellen:Q', title='Anzahl der gemessenden Tage der Zählstellen'),\n",
    "    color=alt.Color('zaehlstelle:N', legend=alt.Legend(title='Zählstellen',  orient=\"right\")),\n",
    "    tooltip=['jahr:N', 'zaehlstelle:N', 'anzahl_zaehlstellen:Q']\n",
    ").properties(\n",
    "    width=600,\n",
    "    height=400,\n",
    "    title='Anzahl der gemessenden Tage der Zählstellen pro Jahr gestapelt nach Zählstellen'\n",
    ")\n",
    "\n",
    "# Diagramm anzeigen\n",
    "chart"
   ]
  },
  {
   "cell_type": "markdown",
   "id": "770fc84e",
   "metadata": {},
   "source": [
    "# Anzahlen berechnen"
   ]
  },
  {
   "cell_type": "markdown",
   "id": "63843f25",
   "metadata": {},
   "source": [
    "### Gesamtsumme aufgezeichneter Radfahrer"
   ]
  },
  {
   "cell_type": "code",
   "execution_count": 15,
   "id": "bb700f5e",
   "metadata": {},
   "outputs": [
    {
     "name": "stdout",
     "output_type": "stream",
     "text": [
      "Summe gemessener Radfahrer insgesamt: 4355837.0\n"
     ]
    }
   ],
   "source": [
    "# Einzelne DataFrames zu einem Gesamt-DataFrame zusammenführen\n",
    "df = pd.concat(df_list, ignore_index=True)\n",
    "\n",
    "# Berechnung der Gesamtsumme der Spalte \"gesamt\"\n",
    "gesamt_summe = df['gesamt'].sum()\n",
    "\n",
    "print('Summe gemessener Radfahrer insgesamt:', gesamt_summe)"
   ]
  },
  {
   "cell_type": "code",
   "execution_count": 11,
   "id": "f6cd581c",
   "metadata": {},
   "outputs": [],
   "source": [
    "# in 2021 gefahrene Radfahrer: 4355837.0\n",
    "# in 2022 gefahrene Radfahrer: 4797843.0\n",
    "# über den Gesamten Zeitraum: 46242791.0"
   ]
  },
  {
   "cell_type": "code",
   "execution_count": 7,
   "id": "2a9ba50b",
   "metadata": {},
   "outputs": [
    {
     "data": {
      "text/plain": [
       "9.21259824466953"
      ]
     },
     "execution_count": 7,
     "metadata": {},
     "output_type": "execute_result"
    }
   ],
   "source": [
    "# Zuwachs in % von 2021 auf 2022\n",
    "wert = ((4797843.0 - 4355837.0) / 4797843.0 ) *100\n",
    "wert"
   ]
  },
  {
   "cell_type": "code",
   "execution_count": 8,
   "id": "533283ca",
   "metadata": {},
   "outputs": [
    {
     "data": {
      "text/plain": [
       "5239724.3403"
      ]
     },
     "execution_count": 8,
     "metadata": {},
     "output_type": "execute_result"
    }
   ],
   "source": [
    "prognose_2023 = (4797843.0 * 1.0921)\n",
    "prognose_2023"
   ]
  },
  {
   "cell_type": "code",
   "execution_count": 12,
   "id": "1bfdbcd8",
   "metadata": {
    "scrolled": true
   },
   "outputs": [
    {
     "data": {
      "text/html": [
       "\n",
       "<style>\n",
       "  #altair-viz-3686beae385e46b7bd90f1c8fc4ee328.vega-embed {\n",
       "    width: 100%;\n",
       "    display: flex;\n",
       "  }\n",
       "\n",
       "  #altair-viz-3686beae385e46b7bd90f1c8fc4ee328.vega-embed details,\n",
       "  #altair-viz-3686beae385e46b7bd90f1c8fc4ee328.vega-embed details summary {\n",
       "    position: relative;\n",
       "  }\n",
       "</style>\n",
       "<div id=\"altair-viz-3686beae385e46b7bd90f1c8fc4ee328\"></div>\n",
       "<script type=\"text/javascript\">\n",
       "  var VEGA_DEBUG = (typeof VEGA_DEBUG == \"undefined\") ? {} : VEGA_DEBUG;\n",
       "  (function(spec, embedOpt){\n",
       "    let outputDiv = document.currentScript.previousElementSibling;\n",
       "    if (outputDiv.id !== \"altair-viz-3686beae385e46b7bd90f1c8fc4ee328\") {\n",
       "      outputDiv = document.getElementById(\"altair-viz-3686beae385e46b7bd90f1c8fc4ee328\");\n",
       "    }\n",
       "    const paths = {\n",
       "      \"vega\": \"https://cdn.jsdelivr.net/npm/vega@5?noext\",\n",
       "      \"vega-lib\": \"https://cdn.jsdelivr.net/npm/vega-lib?noext\",\n",
       "      \"vega-lite\": \"https://cdn.jsdelivr.net/npm/vega-lite@5.16.3?noext\",\n",
       "      \"vega-embed\": \"https://cdn.jsdelivr.net/npm/vega-embed@6?noext\",\n",
       "    };\n",
       "\n",
       "    function maybeLoadScript(lib, version) {\n",
       "      var key = `${lib.replace(\"-\", \"\")}_version`;\n",
       "      return (VEGA_DEBUG[key] == version) ?\n",
       "        Promise.resolve(paths[lib]) :\n",
       "        new Promise(function(resolve, reject) {\n",
       "          var s = document.createElement('script');\n",
       "          document.getElementsByTagName(\"head\")[0].appendChild(s);\n",
       "          s.async = true;\n",
       "          s.onload = () => {\n",
       "            VEGA_DEBUG[key] = version;\n",
       "            return resolve(paths[lib]);\n",
       "          };\n",
       "          s.onerror = () => reject(`Error loading script: ${paths[lib]}`);\n",
       "          s.src = paths[lib];\n",
       "        });\n",
       "    }\n",
       "\n",
       "    function showError(err) {\n",
       "      outputDiv.innerHTML = `<div class=\"error\" style=\"color:red;\">${err}</div>`;\n",
       "      throw err;\n",
       "    }\n",
       "\n",
       "    function displayChart(vegaEmbed) {\n",
       "      vegaEmbed(outputDiv, spec, embedOpt)\n",
       "        .catch(err => showError(`Javascript Error: ${err.message}<br>This usually means there's a typo in your chart specification. See the javascript console for the full traceback.`));\n",
       "    }\n",
       "\n",
       "    if(typeof define === \"function\" && define.amd) {\n",
       "      requirejs.config({paths});\n",
       "      require([\"vega-embed\"], displayChart, err => showError(`Error loading script: ${err.message}`));\n",
       "    } else {\n",
       "      maybeLoadScript(\"vega\", \"5\")\n",
       "        .then(() => maybeLoadScript(\"vega-lite\", \"5.16.3\"))\n",
       "        .then(() => maybeLoadScript(\"vega-embed\", \"6\"))\n",
       "        .catch(showError)\n",
       "        .then(() => displayChart(vegaEmbed));\n",
       "    }\n",
       "  })({\"config\": {\"view\": {\"continuousWidth\": 300, \"continuousHeight\": 300}}, \"data\": {\"name\": \"data-42923ecd9243f2ce26e579b10a95d47e\"}, \"mark\": {\"type\": \"bar\"}, \"encoding\": {\"tooltip\": [{\"field\": \"monat\", \"type\": \"nominal\"}, {\"field\": \"anzahl_zero_values\", \"type\": \"quantitative\"}], \"x\": {\"field\": \"monat\", \"title\": \"Monat\", \"type\": \"nominal\"}, \"y\": {\"field\": \"anzahl_zero_values\", \"title\": \"Anzahl 0-Werte\", \"type\": \"quantitative\"}}, \"height\": 400, \"title\": \"Anzahl 0-Werte pro Monat\", \"width\": 600, \"$schema\": \"https://vega.github.io/schema/vega-lite/v5.16.3.json\", \"datasets\": {\"data-42923ecd9243f2ce26e579b10a95d47e\": [{\"monat\": 1, \"anzahl_zero_values\": 84}, {\"monat\": 2, \"anzahl_zero_values\": 48}, {\"monat\": 3, \"anzahl_zero_values\": 3}, {\"monat\": 12, \"anzahl_zero_values\": 31}]}}, {\"mode\": \"vega-lite\"});\n",
       "</script>"
      ],
      "text/plain": [
       "alt.Chart(...)"
      ]
     },
     "execution_count": 12,
     "metadata": {},
     "output_type": "execute_result"
    }
   ],
   "source": [
    "# Liste für DataFrames erstellen\n",
    "df_list = []\n",
    "\n",
    "# Daten aus Dateien lesen und in df_list speichern\n",
    "for file_path in file_paths:\n",
    "    df_temp = pd.read_csv(file_path)\n",
    "    df_list.append(df_temp[['datum', 'gesamt']])\n",
    "\n",
    "# Einzelne DataFrames zu einem Gesamt-DataFrame zusammenführen\n",
    "df_combined = pd.concat(df_list, ignore_index=True)\n",
    "\n",
    "# Monat aus dem 'datum' extrahieren\n",
    "df_combined['monat'] = pd.to_datetime(df_combined['datum']).dt.month\n",
    "\n",
    "# Filtere die Datensätze, bei denen 'gesamt' gleich 0 ist\n",
    "df_zero_values = df_combined[df_combined['gesamt'] == 0]\n",
    "\n",
    "# Anzahl der 0-Werte pro Monat zählen\n",
    "zero_values_per_month = df_zero_values.groupby('monat').size().reset_index(name='anzahl_zero_values')\n",
    "\n",
    "# Plot mit Altair\n",
    "chart = alt.Chart(zero_values_per_month).mark_bar().encode(\n",
    "    x=alt.X('monat:N', title='Monat'),\n",
    "    y=alt.Y('anzahl_zero_values:Q', title='Anzahl 0-Werte'),\n",
    "    tooltip=['monat:N', 'anzahl_zero_values:Q']\n",
    ").properties(\n",
    "    width=600,\n",
    "    height=400,\n",
    "    title='Anzahl 0-Werte pro Monat'\n",
    ")\n",
    "\n",
    "# Diagramm anzeigen\n",
    "chart"
   ]
  },
  {
   "cell_type": "code",
   "execution_count": 7,
   "id": "108b27e3",
   "metadata": {},
   "outputs": [
    {
     "data": {
      "text/html": [
       "<div>\n",
       "<style scoped>\n",
       "    .dataframe tbody tr th:only-of-type {\n",
       "        vertical-align: middle;\n",
       "    }\n",
       "\n",
       "    .dataframe tbody tr th {\n",
       "        vertical-align: top;\n",
       "    }\n",
       "\n",
       "    .dataframe thead th {\n",
       "        text-align: right;\n",
       "    }\n",
       "</style>\n",
       "<table border=\"1\" class=\"dataframe\">\n",
       "  <thead>\n",
       "    <tr style=\"text-align: right;\">\n",
       "      <th></th>\n",
       "      <th>datum</th>\n",
       "      <th>gesamt</th>\n",
       "      <th>monat</th>\n",
       "    </tr>\n",
       "  </thead>\n",
       "  <tbody>\n",
       "    <tr>\n",
       "      <th>0</th>\n",
       "      <td>2022-01-01</td>\n",
       "      <td>444.0</td>\n",
       "      <td>1</td>\n",
       "    </tr>\n",
       "    <tr>\n",
       "      <th>1</th>\n",
       "      <td>2022-01-02</td>\n",
       "      <td>476.0</td>\n",
       "      <td>1</td>\n",
       "    </tr>\n",
       "    <tr>\n",
       "      <th>2</th>\n",
       "      <td>2022-01-03</td>\n",
       "      <td>752.0</td>\n",
       "      <td>1</td>\n",
       "    </tr>\n",
       "    <tr>\n",
       "      <th>3</th>\n",
       "      <td>2022-01-04</td>\n",
       "      <td>603.0</td>\n",
       "      <td>1</td>\n",
       "    </tr>\n",
       "    <tr>\n",
       "      <th>4</th>\n",
       "      <td>2022-01-05</td>\n",
       "      <td>578.0</td>\n",
       "      <td>1</td>\n",
       "    </tr>\n",
       "    <tr>\n",
       "      <th>...</th>\n",
       "      <td>...</td>\n",
       "      <td>...</td>\n",
       "      <td>...</td>\n",
       "    </tr>\n",
       "    <tr>\n",
       "      <th>29676</th>\n",
       "      <td>2008-12-27</td>\n",
       "      <td>NaN</td>\n",
       "      <td>12</td>\n",
       "    </tr>\n",
       "    <tr>\n",
       "      <th>29677</th>\n",
       "      <td>2008-12-28</td>\n",
       "      <td>NaN</td>\n",
       "      <td>12</td>\n",
       "    </tr>\n",
       "    <tr>\n",
       "      <th>29678</th>\n",
       "      <td>2008-12-29</td>\n",
       "      <td>NaN</td>\n",
       "      <td>12</td>\n",
       "    </tr>\n",
       "    <tr>\n",
       "      <th>29679</th>\n",
       "      <td>2008-12-30</td>\n",
       "      <td>NaN</td>\n",
       "      <td>12</td>\n",
       "    </tr>\n",
       "    <tr>\n",
       "      <th>29680</th>\n",
       "      <td>2008-12-31</td>\n",
       "      <td>NaN</td>\n",
       "      <td>12</td>\n",
       "    </tr>\n",
       "  </tbody>\n",
       "</table>\n",
       "<p>29681 rows × 3 columns</p>\n",
       "</div>"
      ],
      "text/plain": [
       "            datum  gesamt  monat\n",
       "0      2022-01-01   444.0      1\n",
       "1      2022-01-02   476.0      1\n",
       "2      2022-01-03   752.0      1\n",
       "3      2022-01-04   603.0      1\n",
       "4      2022-01-05   578.0      1\n",
       "...           ...     ...    ...\n",
       "29676  2008-12-27     NaN     12\n",
       "29677  2008-12-28     NaN     12\n",
       "29678  2008-12-29     NaN     12\n",
       "29679  2008-12-30     NaN     12\n",
       "29680  2008-12-31     NaN     12\n",
       "\n",
       "[29681 rows x 3 columns]"
      ]
     },
     "execution_count": 7,
     "metadata": {},
     "output_type": "execute_result"
    }
   ],
   "source": [
    "df_combined"
   ]
  }
 ],
 "metadata": {
  "kernelspec": {
   "display_name": "Python 3 (ipykernel)",
   "language": "python",
   "name": "python3"
  },
  "language_info": {
   "codemirror_mode": {
    "name": "ipython",
    "version": 3
   },
   "file_extension": ".py",
   "mimetype": "text/x-python",
   "name": "python",
   "nbconvert_exporter": "python",
   "pygments_lexer": "ipython3",
   "version": "3.10.4"
  }
 },
 "nbformat": 4,
 "nbformat_minor": 5
}
