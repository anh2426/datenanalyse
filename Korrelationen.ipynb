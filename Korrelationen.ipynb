{
 "cells": [
  {
   "cell_type": "code",
   "execution_count": 1,
   "id": "256f96fd",
   "metadata": {},
   "outputs": [],
   "source": [
    "import pandas as pd\n",
    "import numpy as np\n",
    "import seaborn as sns\n",
    "import matplotlib.pyplot as plt\n",
    "\n",
    "# Aktuelle Pfade\n",
    "file_paths = [\n",
    "     \"data/rad_2022_tage_19_06_23_r.csv\",\n",
    "     \"data/rad_2021_tage_19_06_23_r.csv\",\n",
    "     \"data/rad_2020_tage_19_06_23_r.csv\",\n",
    "     \"data/rad_2019_tage_19_06_23_r.csv\",\n",
    "     \"data/rad_2018_tage_19_06_23_r.csv\",\n",
    "     \"data/rad_2017_tage_19_06_23_r.csv\",\n",
    "     \"data/rad_2016_tage_19_06_23_r.csv\",\n",
    "     \"data/rad_2015_tage_19_06_23_r.csv\",\n",
    "     \"data/rad_2014_tage_19_06_23_r.csv\",\n",
    "     \"data/rad_2013_tage_19_06_23_r.csv\",\n",
    "     \"data/rad_2012_tage_19_06_23_r.csv\",\n",
    "     \"data/rad_2011_tage_19_06_23_r.csv\",\n",
    "     \"data/rad_2010_tage_19_06_23_r.csv\",\n",
    "     \"data/rad_2009_tage_19_06_23_r.csv\",\n",
    "     \"data/rad_2008_tage_19_06_23_r.csv\"\n",
    "]"
   ]
  },
  {
   "cell_type": "code",
   "execution_count": 2,
   "id": "364376fd",
   "metadata": {},
   "outputs": [],
   "source": [
    "df2022 = pd.read_csv(\"data/rad_2022_tage_19_06_23_r.csv\")"
   ]
  },
  {
   "cell_type": "code",
   "execution_count": 3,
   "id": "0286a258",
   "metadata": {
    "scrolled": false
   },
   "outputs": [
    {
     "data": {
      "text/html": [
       "<div>\n",
       "<style scoped>\n",
       "    .dataframe tbody tr th:only-of-type {\n",
       "        vertical-align: middle;\n",
       "    }\n",
       "\n",
       "    .dataframe tbody tr th {\n",
       "        vertical-align: top;\n",
       "    }\n",
       "\n",
       "    .dataframe thead th {\n",
       "        text-align: right;\n",
       "    }\n",
       "</style>\n",
       "<table border=\"1\" class=\"dataframe\">\n",
       "  <thead>\n",
       "    <tr style=\"text-align: right;\">\n",
       "      <th></th>\n",
       "      <th>datum</th>\n",
       "      <th>zaehlstelle</th>\n",
       "      <th>uhrzeit_start</th>\n",
       "      <th>uhrzeit_ende</th>\n",
       "      <th>richtung_1</th>\n",
       "      <th>richtung_2</th>\n",
       "      <th>gesamt</th>\n",
       "      <th>min.temp</th>\n",
       "      <th>max.temp</th>\n",
       "      <th>niederschlag</th>\n",
       "      <th>bewoelkung</th>\n",
       "      <th>sonnenstunden</th>\n",
       "      <th>kommentar</th>\n",
       "    </tr>\n",
       "  </thead>\n",
       "  <tbody>\n",
       "    <tr>\n",
       "      <th>0</th>\n",
       "      <td>2022-01-01</td>\n",
       "      <td>Arnulf</td>\n",
       "      <td>00:00</td>\n",
       "      <td>23:59</td>\n",
       "      <td>444.0</td>\n",
       "      <td>0.0</td>\n",
       "      <td>444.0</td>\n",
       "      <td>3.2</td>\n",
       "      <td>13.4</td>\n",
       "      <td>0.0</td>\n",
       "      <td>68</td>\n",
       "      <td>7.6</td>\n",
       "      <td>NaN</td>\n",
       "    </tr>\n",
       "    <tr>\n",
       "      <th>1</th>\n",
       "      <td>2022-01-02</td>\n",
       "      <td>Arnulf</td>\n",
       "      <td>00:00</td>\n",
       "      <td>23:59</td>\n",
       "      <td>476.0</td>\n",
       "      <td>0.0</td>\n",
       "      <td>476.0</td>\n",
       "      <td>1.9</td>\n",
       "      <td>15.8</td>\n",
       "      <td>0.0</td>\n",
       "      <td>80</td>\n",
       "      <td>4.7</td>\n",
       "      <td>NaN</td>\n",
       "    </tr>\n",
       "    <tr>\n",
       "      <th>2</th>\n",
       "      <td>2022-01-03</td>\n",
       "      <td>Arnulf</td>\n",
       "      <td>00:00</td>\n",
       "      <td>23:59</td>\n",
       "      <td>752.0</td>\n",
       "      <td>0.0</td>\n",
       "      <td>752.0</td>\n",
       "      <td>8.7</td>\n",
       "      <td>11.5</td>\n",
       "      <td>0.7</td>\n",
       "      <td>99</td>\n",
       "      <td>0.0</td>\n",
       "      <td>NaN</td>\n",
       "    </tr>\n",
       "    <tr>\n",
       "      <th>3</th>\n",
       "      <td>2022-01-04</td>\n",
       "      <td>Arnulf</td>\n",
       "      <td>00:00</td>\n",
       "      <td>23:59</td>\n",
       "      <td>603.0</td>\n",
       "      <td>0.0</td>\n",
       "      <td>603.0</td>\n",
       "      <td>3.7</td>\n",
       "      <td>16.5</td>\n",
       "      <td>10.3</td>\n",
       "      <td>98</td>\n",
       "      <td>1.0</td>\n",
       "      <td>NaN</td>\n",
       "    </tr>\n",
       "    <tr>\n",
       "      <th>4</th>\n",
       "      <td>2022-01-05</td>\n",
       "      <td>Arnulf</td>\n",
       "      <td>00:00</td>\n",
       "      <td>23:59</td>\n",
       "      <td>578.0</td>\n",
       "      <td>0.0</td>\n",
       "      <td>578.0</td>\n",
       "      <td>0.3</td>\n",
       "      <td>3.9</td>\n",
       "      <td>1.2</td>\n",
       "      <td>95</td>\n",
       "      <td>0.4</td>\n",
       "      <td>NaN</td>\n",
       "    </tr>\n",
       "  </tbody>\n",
       "</table>\n",
       "</div>"
      ],
      "text/plain": [
       "        datum zaehlstelle uhrzeit_start uhrzeit_ende  richtung_1  richtung_2  \\\n",
       "0  2022-01-01      Arnulf         00:00        23:59       444.0         0.0   \n",
       "1  2022-01-02      Arnulf         00:00        23:59       476.0         0.0   \n",
       "2  2022-01-03      Arnulf         00:00        23:59       752.0         0.0   \n",
       "3  2022-01-04      Arnulf         00:00        23:59       603.0         0.0   \n",
       "4  2022-01-05      Arnulf         00:00        23:59       578.0         0.0   \n",
       "\n",
       "   gesamt  min.temp  max.temp  niederschlag  bewoelkung  sonnenstunden  \\\n",
       "0   444.0       3.2      13.4           0.0          68            7.6   \n",
       "1   476.0       1.9      15.8           0.0          80            4.7   \n",
       "2   752.0       8.7      11.5           0.7          99            0.0   \n",
       "3   603.0       3.7      16.5          10.3          98            1.0   \n",
       "4   578.0       0.3       3.9           1.2          95            0.4   \n",
       "\n",
       "  kommentar  \n",
       "0       NaN  \n",
       "1       NaN  \n",
       "2       NaN  \n",
       "3       NaN  \n",
       "4       NaN  "
      ]
     },
     "execution_count": 3,
     "metadata": {},
     "output_type": "execute_result"
    }
   ],
   "source": [
    "df2022.head()"
   ]
  },
  {
   "cell_type": "code",
   "execution_count": 162,
   "id": "4688b89f",
   "metadata": {},
   "outputs": [
    {
     "name": "stdout",
     "output_type": "stream",
     "text": [
      "Es gibt mindestens einen Wert gleich 0 in der Spalte 'gesamt'.\n"
     ]
    }
   ],
   "source": [
    "if (df2022['gesamt'] == 0).any():\n",
    "    print(\"Es gibt mindestens einen Wert gleich 0 in der Spalte 'gesamt'.\")\n",
    "else:\n",
    "    print(\"Es gibt keine Werte gleich 0 in der Spalte 'gesamt'.\")"
   ]
  },
  {
   "cell_type": "code",
   "execution_count": 153,
   "id": "37c54073",
   "metadata": {},
   "outputs": [
    {
     "name": "stdout",
     "output_type": "stream",
     "text": [
      "Es gibt mindestens einen Wert gleich 0 in der Spalte 'gesamt'.\n",
      "Zeilen mit Null-Werten in der Spalte 'gesamt' wurden gelöscht.\n"
     ]
    }
   ],
   "source": [
    "if (df2022['gesamt'] == 0).any():\n",
    "    print(\"Es gibt mindestens einen Wert gleich 0 in der Spalte 'gesamt'.\")\n",
    "    \n",
    "    # Zeilen mit Null-Werten in der Spalte 'gesamt' löschen\n",
    "    df2022 = df2022[df2022['gesamt'] != 0]\n",
    "    \n",
    "    print(\"Zeilen mit Null-Werten in der Spalte 'gesamt' wurden gelöscht.\")\n",
    "else:\n",
    "    print(\"Es gibt keine Werte gleich 0 in der Spalte 'gesamt'.\")"
   ]
  },
  {
   "cell_type": "code",
   "execution_count": 163,
   "id": "648e441b",
   "metadata": {},
   "outputs": [
    {
     "data": {
      "text/html": [
       "<div>\n",
       "<style scoped>\n",
       "    .dataframe tbody tr th:only-of-type {\n",
       "        vertical-align: middle;\n",
       "    }\n",
       "\n",
       "    .dataframe tbody tr th {\n",
       "        vertical-align: top;\n",
       "    }\n",
       "\n",
       "    .dataframe thead th {\n",
       "        text-align: right;\n",
       "    }\n",
       "</style>\n",
       "<table border=\"1\" class=\"dataframe\">\n",
       "  <thead>\n",
       "    <tr style=\"text-align: right;\">\n",
       "      <th></th>\n",
       "      <th>datum</th>\n",
       "      <th>uhrzeit_start</th>\n",
       "      <th>uhrzeit_ende</th>\n",
       "      <th>zaehlstelle</th>\n",
       "      <th>richtung_1</th>\n",
       "      <th>richtung_2</th>\n",
       "      <th>gesamt</th>\n",
       "      <th>min.temp</th>\n",
       "      <th>max.temp</th>\n",
       "      <th>niederschlag</th>\n",
       "      <th>bewoelkung</th>\n",
       "      <th>sonnenstunden</th>\n",
       "    </tr>\n",
       "  </thead>\n",
       "  <tbody>\n",
       "    <tr>\n",
       "      <th>0</th>\n",
       "      <td>2022-01-01</td>\n",
       "      <td>00:00</td>\n",
       "      <td>23.59</td>\n",
       "      <td>Arnulf</td>\n",
       "      <td>444</td>\n",
       "      <td>0</td>\n",
       "      <td>444</td>\n",
       "      <td>3.2</td>\n",
       "      <td>13.4</td>\n",
       "      <td>0.0</td>\n",
       "      <td>68</td>\n",
       "      <td>7.6</td>\n",
       "    </tr>\n",
       "    <tr>\n",
       "      <th>1</th>\n",
       "      <td>2022-01-02</td>\n",
       "      <td>00:00</td>\n",
       "      <td>23.59</td>\n",
       "      <td>Arnulf</td>\n",
       "      <td>476</td>\n",
       "      <td>0</td>\n",
       "      <td>476</td>\n",
       "      <td>1.9</td>\n",
       "      <td>15.8</td>\n",
       "      <td>0.0</td>\n",
       "      <td>80</td>\n",
       "      <td>4.7</td>\n",
       "    </tr>\n",
       "    <tr>\n",
       "      <th>2</th>\n",
       "      <td>2022-01-03</td>\n",
       "      <td>00:00</td>\n",
       "      <td>23.59</td>\n",
       "      <td>Arnulf</td>\n",
       "      <td>752</td>\n",
       "      <td>0</td>\n",
       "      <td>752</td>\n",
       "      <td>8.7</td>\n",
       "      <td>11.5</td>\n",
       "      <td>0.7</td>\n",
       "      <td>99</td>\n",
       "      <td>0.0</td>\n",
       "    </tr>\n",
       "    <tr>\n",
       "      <th>3</th>\n",
       "      <td>2022-01-04</td>\n",
       "      <td>00:00</td>\n",
       "      <td>23.59</td>\n",
       "      <td>Arnulf</td>\n",
       "      <td>603</td>\n",
       "      <td>0</td>\n",
       "      <td>603</td>\n",
       "      <td>3.7</td>\n",
       "      <td>16.5</td>\n",
       "      <td>10.3</td>\n",
       "      <td>98</td>\n",
       "      <td>1.0</td>\n",
       "    </tr>\n",
       "    <tr>\n",
       "      <th>4</th>\n",
       "      <td>2022-01-05</td>\n",
       "      <td>00:00</td>\n",
       "      <td>23.59</td>\n",
       "      <td>Arnulf</td>\n",
       "      <td>578</td>\n",
       "      <td>0</td>\n",
       "      <td>578</td>\n",
       "      <td>0.3</td>\n",
       "      <td>3.9</td>\n",
       "      <td>1.2</td>\n",
       "      <td>95</td>\n",
       "      <td>0.4</td>\n",
       "    </tr>\n",
       "  </tbody>\n",
       "</table>\n",
       "</div>"
      ],
      "text/plain": [
       "        datum uhrzeit_start  uhrzeit_ende zaehlstelle  richtung_1  richtung_2  \\\n",
       "0  2022-01-01         00:00         23.59      Arnulf         444           0   \n",
       "1  2022-01-02         00:00         23.59      Arnulf         476           0   \n",
       "2  2022-01-03         00:00         23.59      Arnulf         752           0   \n",
       "3  2022-01-04         00:00         23.59      Arnulf         603           0   \n",
       "4  2022-01-05         00:00         23.59      Arnulf         578           0   \n",
       "\n",
       "   gesamt  min.temp  max.temp  niederschlag  bewoelkung  sonnenstunden  \n",
       "0     444       3.2      13.4           0.0          68            7.6  \n",
       "1     476       1.9      15.8           0.0          80            4.7  \n",
       "2     752       8.7      11.5           0.7          99            0.0  \n",
       "3     603       3.7      16.5          10.3          98            1.0  \n",
       "4     578       0.3       3.9           1.2          95            0.4  "
      ]
     },
     "execution_count": 163,
     "metadata": {},
     "output_type": "execute_result"
    }
   ],
   "source": [
    "df2022.head()"
   ]
  },
  {
   "cell_type": "code",
   "execution_count": 155,
   "id": "356ca75b",
   "metadata": {},
   "outputs": [],
   "source": [
    "#df2022 = df2022.select_dtypes(include=['float64', 'int64', 'bool'])"
   ]
  },
  {
   "cell_type": "code",
   "execution_count": 156,
   "id": "c3e27402",
   "metadata": {},
   "outputs": [],
   "source": [
    "#corr_matrix = df2022.corr(numeric_only=False)"
   ]
  },
  {
   "cell_type": "code",
   "execution_count": 169,
   "id": "f62f563c",
   "metadata": {},
   "outputs": [
    {
     "data": {
      "text/html": [
       "<div>\n",
       "<style scoped>\n",
       "    .dataframe tbody tr th:only-of-type {\n",
       "        vertical-align: middle;\n",
       "    }\n",
       "\n",
       "    .dataframe tbody tr th {\n",
       "        vertical-align: top;\n",
       "    }\n",
       "\n",
       "    .dataframe thead th {\n",
       "        text-align: right;\n",
       "    }\n",
       "</style>\n",
       "<table border=\"1\" class=\"dataframe\">\n",
       "  <thead>\n",
       "    <tr style=\"text-align: right;\">\n",
       "      <th></th>\n",
       "      <th>richtung_1</th>\n",
       "      <th>richtung_2</th>\n",
       "      <th>gesamt</th>\n",
       "      <th>bewoelkung</th>\n",
       "    </tr>\n",
       "  </thead>\n",
       "  <tbody>\n",
       "    <tr>\n",
       "      <th>richtung_1</th>\n",
       "      <td>1.000000</td>\n",
       "      <td>0.898606</td>\n",
       "      <td>0.973806</td>\n",
       "      <td>-0.299862</td>\n",
       "    </tr>\n",
       "    <tr>\n",
       "      <th>richtung_2</th>\n",
       "      <td>0.898606</td>\n",
       "      <td>1.000000</td>\n",
       "      <td>0.974833</td>\n",
       "      <td>-0.247505</td>\n",
       "    </tr>\n",
       "    <tr>\n",
       "      <th>gesamt</th>\n",
       "      <td>0.973806</td>\n",
       "      <td>0.974833</td>\n",
       "      <td>1.000000</td>\n",
       "      <td>-0.280630</td>\n",
       "    </tr>\n",
       "    <tr>\n",
       "      <th>bewoelkung</th>\n",
       "      <td>-0.299862</td>\n",
       "      <td>-0.247505</td>\n",
       "      <td>-0.280630</td>\n",
       "      <td>1.000000</td>\n",
       "    </tr>\n",
       "  </tbody>\n",
       "</table>\n",
       "</div>"
      ],
      "text/plain": [
       "            richtung_1  richtung_2    gesamt  bewoelkung\n",
       "richtung_1    1.000000    0.898606  0.973806   -0.299862\n",
       "richtung_2    0.898606    1.000000  0.974833   -0.247505\n",
       "gesamt        0.973806    0.974833  1.000000   -0.280630\n",
       "bewoelkung   -0.299862   -0.247505 -0.280630    1.000000"
      ]
     },
     "execution_count": 169,
     "metadata": {},
     "output_type": "execute_result"
    }
   ],
   "source": [
    "corr_matrix"
   ]
  },
  {
   "cell_type": "code",
   "execution_count": 165,
   "id": "47395129",
   "metadata": {
    "scrolled": true
   },
   "outputs": [
    {
     "ename": "KeyError",
     "evalue": "'niederschlag'",
     "output_type": "error",
     "traceback": [
      "\u001b[0;31m---------------------------------------------------------------------------\u001b[0m",
      "\u001b[0;31mKeyError\u001b[0m                                  Traceback (most recent call last)",
      "File \u001b[0;32m/Library/Frameworks/Python.framework/Versions/3.10/lib/python3.10/site-packages/pandas/core/indexes/base.py:3802\u001b[0m, in \u001b[0;36mIndex.get_loc\u001b[0;34m(self, key, method, tolerance)\u001b[0m\n\u001b[1;32m   3801\u001b[0m \u001b[38;5;28;01mtry\u001b[39;00m:\n\u001b[0;32m-> 3802\u001b[0m     \u001b[38;5;28;01mreturn\u001b[39;00m \u001b[38;5;28;43mself\u001b[39;49m\u001b[38;5;241;43m.\u001b[39;49m\u001b[43m_engine\u001b[49m\u001b[38;5;241;43m.\u001b[39;49m\u001b[43mget_loc\u001b[49m\u001b[43m(\u001b[49m\u001b[43mcasted_key\u001b[49m\u001b[43m)\u001b[49m\n\u001b[1;32m   3803\u001b[0m \u001b[38;5;28;01mexcept\u001b[39;00m \u001b[38;5;167;01mKeyError\u001b[39;00m \u001b[38;5;28;01mas\u001b[39;00m err:\n",
      "File \u001b[0;32m/Library/Frameworks/Python.framework/Versions/3.10/lib/python3.10/site-packages/pandas/_libs/index.pyx:138\u001b[0m, in \u001b[0;36mpandas._libs.index.IndexEngine.get_loc\u001b[0;34m()\u001b[0m\n",
      "File \u001b[0;32m/Library/Frameworks/Python.framework/Versions/3.10/lib/python3.10/site-packages/pandas/_libs/index.pyx:165\u001b[0m, in \u001b[0;36mpandas._libs.index.IndexEngine.get_loc\u001b[0;34m()\u001b[0m\n",
      "File \u001b[0;32mpandas/_libs/hashtable_class_helper.pxi:5745\u001b[0m, in \u001b[0;36mpandas._libs.hashtable.PyObjectHashTable.get_item\u001b[0;34m()\u001b[0m\n",
      "File \u001b[0;32mpandas/_libs/hashtable_class_helper.pxi:5753\u001b[0m, in \u001b[0;36mpandas._libs.hashtable.PyObjectHashTable.get_item\u001b[0;34m()\u001b[0m\n",
      "\u001b[0;31mKeyError\u001b[0m: 'niederschlag'",
      "\nThe above exception was the direct cause of the following exception:\n",
      "\u001b[0;31mKeyError\u001b[0m                                  Traceback (most recent call last)",
      "Cell \u001b[0;32mIn[165], line 1\u001b[0m\n\u001b[0;32m----> 1\u001b[0m \u001b[43mcorr_matrix\u001b[49m\u001b[43m[\u001b[49m\u001b[38;5;124;43m\"\u001b[39;49m\u001b[38;5;124;43mniederschlag\u001b[39;49m\u001b[38;5;124;43m\"\u001b[39;49m\u001b[43m]\u001b[49m\n",
      "File \u001b[0;32m/Library/Frameworks/Python.framework/Versions/3.10/lib/python3.10/site-packages/pandas/core/frame.py:3807\u001b[0m, in \u001b[0;36mDataFrame.__getitem__\u001b[0;34m(self, key)\u001b[0m\n\u001b[1;32m   3805\u001b[0m \u001b[38;5;28;01mif\u001b[39;00m \u001b[38;5;28mself\u001b[39m\u001b[38;5;241m.\u001b[39mcolumns\u001b[38;5;241m.\u001b[39mnlevels \u001b[38;5;241m>\u001b[39m \u001b[38;5;241m1\u001b[39m:\n\u001b[1;32m   3806\u001b[0m     \u001b[38;5;28;01mreturn\u001b[39;00m \u001b[38;5;28mself\u001b[39m\u001b[38;5;241m.\u001b[39m_getitem_multilevel(key)\n\u001b[0;32m-> 3807\u001b[0m indexer \u001b[38;5;241m=\u001b[39m \u001b[38;5;28;43mself\u001b[39;49m\u001b[38;5;241;43m.\u001b[39;49m\u001b[43mcolumns\u001b[49m\u001b[38;5;241;43m.\u001b[39;49m\u001b[43mget_loc\u001b[49m\u001b[43m(\u001b[49m\u001b[43mkey\u001b[49m\u001b[43m)\u001b[49m\n\u001b[1;32m   3808\u001b[0m \u001b[38;5;28;01mif\u001b[39;00m is_integer(indexer):\n\u001b[1;32m   3809\u001b[0m     indexer \u001b[38;5;241m=\u001b[39m [indexer]\n",
      "File \u001b[0;32m/Library/Frameworks/Python.framework/Versions/3.10/lib/python3.10/site-packages/pandas/core/indexes/base.py:3804\u001b[0m, in \u001b[0;36mIndex.get_loc\u001b[0;34m(self, key, method, tolerance)\u001b[0m\n\u001b[1;32m   3802\u001b[0m     \u001b[38;5;28;01mreturn\u001b[39;00m \u001b[38;5;28mself\u001b[39m\u001b[38;5;241m.\u001b[39m_engine\u001b[38;5;241m.\u001b[39mget_loc(casted_key)\n\u001b[1;32m   3803\u001b[0m \u001b[38;5;28;01mexcept\u001b[39;00m \u001b[38;5;167;01mKeyError\u001b[39;00m \u001b[38;5;28;01mas\u001b[39;00m err:\n\u001b[0;32m-> 3804\u001b[0m     \u001b[38;5;28;01mraise\u001b[39;00m \u001b[38;5;167;01mKeyError\u001b[39;00m(key) \u001b[38;5;28;01mfrom\u001b[39;00m \u001b[38;5;21;01merr\u001b[39;00m\n\u001b[1;32m   3805\u001b[0m \u001b[38;5;28;01mexcept\u001b[39;00m \u001b[38;5;167;01mTypeError\u001b[39;00m:\n\u001b[1;32m   3806\u001b[0m     \u001b[38;5;66;03m# If we have a listlike key, _check_indexing_error will raise\u001b[39;00m\n\u001b[1;32m   3807\u001b[0m     \u001b[38;5;66;03m#  InvalidIndexError. Otherwise we fall through and re-raise\u001b[39;00m\n\u001b[1;32m   3808\u001b[0m     \u001b[38;5;66;03m#  the TypeError.\u001b[39;00m\n\u001b[1;32m   3809\u001b[0m     \u001b[38;5;28mself\u001b[39m\u001b[38;5;241m.\u001b[39m_check_indexing_error(key)\n",
      "\u001b[0;31mKeyError\u001b[0m: 'niederschlag'"
     ]
    }
   ],
   "source": [
    "corr_matrix[\"niederschlag\"]"
   ]
  },
  {
   "cell_type": "code",
   "execution_count": 159,
   "id": "ecf42c28",
   "metadata": {},
   "outputs": [
    {
     "name": "stdout",
     "output_type": "stream",
     "text": [
      "Es gibt keine Werte gleich 0 in der Spalte 'gesamt'.\n"
     ]
    }
   ],
   "source": [
    "# Überprüfen, ob es in der Spalte 'Radfahrer' Werte gleich 0 gibt\n",
    "if (df['gesamt'] == 0).any():\n",
    "    print(\"Es gibt mindestens einen Wert gleich 0 in der Spalte 'gesamt'.\")\n",
    "else:\n",
    "    print(\"Es gibt keine Werte gleich 0 in der Spalte 'gesamt'.\")"
   ]
  },
  {
   "cell_type": "code",
   "execution_count": null,
   "id": "072bb0f9",
   "metadata": {},
   "outputs": [],
   "source": []
  },
  {
   "cell_type": "code",
   "execution_count": null,
   "id": "8f17c4bb",
   "metadata": {},
   "outputs": [],
   "source": []
  }
 ],
 "metadata": {
  "kernelspec": {
   "display_name": "Python 3 (ipykernel)",
   "language": "python",
   "name": "python3"
  },
  "language_info": {
   "codemirror_mode": {
    "name": "ipython",
    "version": 3
   },
   "file_extension": ".py",
   "mimetype": "text/x-python",
   "name": "python",
   "nbconvert_exporter": "python",
   "pygments_lexer": "ipython3",
   "version": "3.10.4"
  }
 },
 "nbformat": 4,
 "nbformat_minor": 5
}
